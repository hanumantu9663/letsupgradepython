{
  "nbformat": 4,
  "nbformat_minor": 0,
  "metadata": {
    "colab": {
      "name": "Python day1.ipynb",
      "provenance": [],
      "authorship_tag": "ABX9TyNE++pqWKTTthn+WzSZ9bz/",
      "include_colab_link": true
    },
    "kernelspec": {
      "name": "python3",
      "display_name": "Python 3"
    }
  },
  "cells": [
    {
      "cell_type": "markdown",
      "metadata": {
        "id": "view-in-github",
        "colab_type": "text"
      },
      "source": [
        "<a href=\"https://colab.research.google.com/github/hanumantu9663/letsupgradepython/blob/master/Python_day1.ipynb\" target=\"_parent\"><img src=\"https://colab.research.google.com/assets/colab-badge.svg\" alt=\"Open In Colab\"/></a>"
      ]
    },
    {
      "cell_type": "code",
      "metadata": {
        "id": "tQNJ4H19P97m",
        "colab_type": "code",
        "colab": {
          "base_uri": "https://localhost:8080/",
          "height": 51
        },
        "outputId": "f888f4a5-e2c7-4b6a-ac5d-cb8dd8b62afe"
      },
      "source": [
        "altitude=input (\"enter a altitude value-\")\n",
        "altitude=int(altitude)\n",
        "if altitude<1000:\n",
        "    print(\"safe to land\")\n",
        "elif altitude<5000:\n",
        "    print(\"bring down to 1000\")\n",
        "else:\n",
        "    print(\"turn around\")"
      ],
      "execution_count": null,
      "outputs": [
        {
          "output_type": "stream",
          "text": [
            "enter a altitude value-750\n",
            "safe to land\n"
          ],
          "name": "stdout"
        }
      ]
    }
  ]
}